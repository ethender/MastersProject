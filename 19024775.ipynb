{
 "cells": [
  {
   "cell_type": "code",
   "execution_count": 4,
   "metadata": {},
   "outputs": [
    {
     "name": "stderr",
     "output_type": "stream",
     "text": [
      "/Users/ethender/opt/anaconda3/lib/python3.7/site-packages/statsmodels/tools/_testing.py:19: FutureWarning: pandas.util.testing is deprecated. Use the functions in the public API at pandas.testing instead.\n",
      "  import pandas.util.testing as tm\n",
      "/Users/ethender/opt/anaconda3/lib/python3.7/importlib/_bootstrap.py:219: RuntimeWarning: numpy.ufunc size changed, may indicate binary incompatibility. Expected 192 from C header, got 216 from PyObject\n",
      "  return f(*args, **kwds)\n"
     ]
    }
   ],
   "source": [
    "import pandas as pd\n",
    "import numpy as np\n",
    "import matplotlib as mlt\n",
    "import matplotlib.pyplot as plt\n",
    "import seaborn as sns"
   ]
  },
  {
   "cell_type": "markdown",
   "metadata": {},
   "source": [
    "Task1:\n",
    "a. Use Pandas to load both trainingSet.csv and testingSet.csv (1 mark).\n",
    "Loaded the Training set and Test set"
   ]
  },
  {
   "cell_type": "code",
   "execution_count": 5,
   "metadata": {},
   "outputs": [
    {
     "data": {
      "text/html": [
       "<div>\n",
       "<style scoped>\n",
       "    .dataframe tbody tr th:only-of-type {\n",
       "        vertical-align: middle;\n",
       "    }\n",
       "\n",
       "    .dataframe tbody tr th {\n",
       "        vertical-align: top;\n",
       "    }\n",
       "\n",
       "    .dataframe thead th {\n",
       "        text-align: right;\n",
       "    }\n",
       "</style>\n",
       "<table border=\"1\" class=\"dataframe\">\n",
       "  <thead>\n",
       "    <tr style=\"text-align: right;\">\n",
       "      <th></th>\n",
       "      <th>LOC_BLANK</th>\n",
       "      <th>BRANCH_COUNT</th>\n",
       "      <th>LOC_CODE_AND_COMMENT</th>\n",
       "      <th>LOC_COMMENTS</th>\n",
       "      <th>CYCLOMATIC_COMPLEXITY</th>\n",
       "      <th>DESIGN_COMPLEXITY</th>\n",
       "      <th>ESSENTIAL_COMPLEXITY</th>\n",
       "      <th>LOC_EXECUTABLE</th>\n",
       "      <th>NUM_OPERANDS</th>\n",
       "      <th>NUM_OPERATORS</th>\n",
       "      <th>NUM_UNIQUE_OPERANDS</th>\n",
       "      <th>NUM_UNIQUE_OPERATORS</th>\n",
       "      <th>LOC_TOTAL</th>\n",
       "      <th>DEFECTIVE</th>\n",
       "    </tr>\n",
       "  </thead>\n",
       "  <tbody>\n",
       "    <tr>\n",
       "      <th>0</th>\n",
       "      <td>0</td>\n",
       "      <td>1</td>\n",
       "      <td>0</td>\n",
       "      <td>0</td>\n",
       "      <td>1</td>\n",
       "      <td>1</td>\n",
       "      <td>1</td>\n",
       "      <td>7</td>\n",
       "      <td>12</td>\n",
       "      <td>19</td>\n",
       "      <td>7</td>\n",
       "      <td>4</td>\n",
       "      <td>9</td>\n",
       "      <td>1</td>\n",
       "    </tr>\n",
       "    <tr>\n",
       "      <th>1</th>\n",
       "      <td>2</td>\n",
       "      <td>1</td>\n",
       "      <td>0</td>\n",
       "      <td>0</td>\n",
       "      <td>1</td>\n",
       "      <td>1</td>\n",
       "      <td>1</td>\n",
       "      <td>6</td>\n",
       "      <td>8</td>\n",
       "      <td>8</td>\n",
       "      <td>6</td>\n",
       "      <td>4</td>\n",
       "      <td>10</td>\n",
       "      <td>-1</td>\n",
       "    </tr>\n",
       "    <tr>\n",
       "      <th>2</th>\n",
       "      <td>3</td>\n",
       "      <td>9</td>\n",
       "      <td>0</td>\n",
       "      <td>3</td>\n",
       "      <td>1</td>\n",
       "      <td>1</td>\n",
       "      <td>1</td>\n",
       "      <td>24</td>\n",
       "      <td>22</td>\n",
       "      <td>33</td>\n",
       "      <td>13</td>\n",
       "      <td>11</td>\n",
       "      <td>33</td>\n",
       "      <td>1</td>\n",
       "    </tr>\n",
       "    <tr>\n",
       "      <th>3</th>\n",
       "      <td>0</td>\n",
       "      <td>1</td>\n",
       "      <td>0</td>\n",
       "      <td>0</td>\n",
       "      <td>1</td>\n",
       "      <td>1</td>\n",
       "      <td>1</td>\n",
       "      <td>1</td>\n",
       "      <td>1</td>\n",
       "      <td>2</td>\n",
       "      <td>1</td>\n",
       "      <td>2</td>\n",
       "      <td>4</td>\n",
       "      <td>-1</td>\n",
       "    </tr>\n",
       "    <tr>\n",
       "      <th>4</th>\n",
       "      <td>0</td>\n",
       "      <td>1</td>\n",
       "      <td>0</td>\n",
       "      <td>0</td>\n",
       "      <td>1</td>\n",
       "      <td>1</td>\n",
       "      <td>1</td>\n",
       "      <td>7</td>\n",
       "      <td>10</td>\n",
       "      <td>15</td>\n",
       "      <td>8</td>\n",
       "      <td>8</td>\n",
       "      <td>12</td>\n",
       "      <td>-1</td>\n",
       "    </tr>\n",
       "    <tr>\n",
       "      <th>...</th>\n",
       "      <td>...</td>\n",
       "      <td>...</td>\n",
       "      <td>...</td>\n",
       "      <td>...</td>\n",
       "      <td>...</td>\n",
       "      <td>...</td>\n",
       "      <td>...</td>\n",
       "      <td>...</td>\n",
       "      <td>...</td>\n",
       "      <td>...</td>\n",
       "      <td>...</td>\n",
       "      <td>...</td>\n",
       "      <td>...</td>\n",
       "      <td>...</td>\n",
       "    </tr>\n",
       "    <tr>\n",
       "      <th>359</th>\n",
       "      <td>12</td>\n",
       "      <td>39</td>\n",
       "      <td>6</td>\n",
       "      <td>20</td>\n",
       "      <td>20</td>\n",
       "      <td>12</td>\n",
       "      <td>7</td>\n",
       "      <td>91</td>\n",
       "      <td>140</td>\n",
       "      <td>200</td>\n",
       "      <td>61</td>\n",
       "      <td>20</td>\n",
       "      <td>131</td>\n",
       "      <td>-1</td>\n",
       "    </tr>\n",
       "    <tr>\n",
       "      <th>360</th>\n",
       "      <td>22</td>\n",
       "      <td>31</td>\n",
       "      <td>0</td>\n",
       "      <td>7</td>\n",
       "      <td>16</td>\n",
       "      <td>13</td>\n",
       "      <td>11</td>\n",
       "      <td>101</td>\n",
       "      <td>130</td>\n",
       "      <td>192</td>\n",
       "      <td>57</td>\n",
       "      <td>26</td>\n",
       "      <td>132</td>\n",
       "      <td>1</td>\n",
       "    </tr>\n",
       "    <tr>\n",
       "      <th>361</th>\n",
       "      <td>0</td>\n",
       "      <td>1</td>\n",
       "      <td>0</td>\n",
       "      <td>0</td>\n",
       "      <td>1</td>\n",
       "      <td>1</td>\n",
       "      <td>1</td>\n",
       "      <td>3</td>\n",
       "      <td>3</td>\n",
       "      <td>5</td>\n",
       "      <td>3</td>\n",
       "      <td>5</td>\n",
       "      <td>5</td>\n",
       "      <td>-1</td>\n",
       "    </tr>\n",
       "    <tr>\n",
       "      <th>362</th>\n",
       "      <td>4</td>\n",
       "      <td>7</td>\n",
       "      <td>0</td>\n",
       "      <td>11</td>\n",
       "      <td>4</td>\n",
       "      <td>4</td>\n",
       "      <td>1</td>\n",
       "      <td>23</td>\n",
       "      <td>23</td>\n",
       "      <td>38</td>\n",
       "      <td>14</td>\n",
       "      <td>10</td>\n",
       "      <td>40</td>\n",
       "      <td>-1</td>\n",
       "    </tr>\n",
       "    <tr>\n",
       "      <th>363</th>\n",
       "      <td>8</td>\n",
       "      <td>13</td>\n",
       "      <td>1</td>\n",
       "      <td>1</td>\n",
       "      <td>7</td>\n",
       "      <td>7</td>\n",
       "      <td>5</td>\n",
       "      <td>49</td>\n",
       "      <td>66</td>\n",
       "      <td>99</td>\n",
       "      <td>33</td>\n",
       "      <td>15</td>\n",
       "      <td>65</td>\n",
       "      <td>-1</td>\n",
       "    </tr>\n",
       "  </tbody>\n",
       "</table>\n",
       "<p>364 rows × 14 columns</p>\n",
       "</div>"
      ],
      "text/plain": [
       "     LOC_BLANK  BRANCH_COUNT  LOC_CODE_AND_COMMENT  LOC_COMMENTS  \\\n",
       "0            0             1                     0             0   \n",
       "1            2             1                     0             0   \n",
       "2            3             9                     0             3   \n",
       "3            0             1                     0             0   \n",
       "4            0             1                     0             0   \n",
       "..         ...           ...                   ...           ...   \n",
       "359         12            39                     6            20   \n",
       "360         22            31                     0             7   \n",
       "361          0             1                     0             0   \n",
       "362          4             7                     0            11   \n",
       "363          8            13                     1             1   \n",
       "\n",
       "     CYCLOMATIC_COMPLEXITY  DESIGN_COMPLEXITY  ESSENTIAL_COMPLEXITY  \\\n",
       "0                        1                  1                     1   \n",
       "1                        1                  1                     1   \n",
       "2                        1                  1                     1   \n",
       "3                        1                  1                     1   \n",
       "4                        1                  1                     1   \n",
       "..                     ...                ...                   ...   \n",
       "359                     20                 12                     7   \n",
       "360                     16                 13                    11   \n",
       "361                      1                  1                     1   \n",
       "362                      4                  4                     1   \n",
       "363                      7                  7                     5   \n",
       "\n",
       "     LOC_EXECUTABLE  NUM_OPERANDS  NUM_OPERATORS  NUM_UNIQUE_OPERANDS  \\\n",
       "0                 7            12             19                    7   \n",
       "1                 6             8              8                    6   \n",
       "2                24            22             33                   13   \n",
       "3                 1             1              2                    1   \n",
       "4                 7            10             15                    8   \n",
       "..              ...           ...            ...                  ...   \n",
       "359              91           140            200                   61   \n",
       "360             101           130            192                   57   \n",
       "361               3             3              5                    3   \n",
       "362              23            23             38                   14   \n",
       "363              49            66             99                   33   \n",
       "\n",
       "     NUM_UNIQUE_OPERATORS  LOC_TOTAL  DEFECTIVE  \n",
       "0                       4          9          1  \n",
       "1                       4         10         -1  \n",
       "2                      11         33          1  \n",
       "3                       2          4         -1  \n",
       "4                       8         12         -1  \n",
       "..                    ...        ...        ...  \n",
       "359                    20        131         -1  \n",
       "360                    26        132          1  \n",
       "361                     5          5         -1  \n",
       "362                    10         40         -1  \n",
       "363                    15         65         -1  \n",
       "\n",
       "[364 rows x 14 columns]"
      ]
     },
     "execution_count": 5,
     "metadata": {},
     "output_type": "execute_result"
    }
   ],
   "source": [
    "trainingSet = pd.read_csv('trainingSet.csv')\n",
    "testSet = pd.read_csv('testingSet.csv')\n",
    "trainingSet"
   ]
  },
  {
   "cell_type": "markdown",
   "metadata": {},
   "source": [
    "Task1\n",
    "b) Find the number of patterns in each class for both loaded data sets using Python \n",
    "\n",
    "\n",
    "Found the Pattern for each class "
   ]
  },
  {
   "cell_type": "markdown",
   "metadata": {},
   "source": [
    "Categorical Data:\n",
    "    - DEFECTIVE\n",
    "Numerical Data:\n",
    "    - Loc_Blank\n",
    "    - Branch_count\n",
    "    - LOC_CODE_AND_COMMENT\n",
    "    - LOC_COMMENTS\n",
    "    - CYCLOMATIC_COMPLEXITY\n",
    "    - DESIGN_COMPLEXITY\n",
    "    - ESSENTIAL_COMPLEXITY\n",
    "    - LOC_EXECUTABLE\n",
    "    - NUM_OPERANDS\n",
    "    - NUM_OPERATORS\n",
    "    - NUM_UNIQUE_OPERANDS\n",
    "    - NUM_UNIQUE_OPERATORS\n",
    "    - LOC_TOTAL"
   ]
  },
  {
   "cell_type": "markdown",
   "metadata": {},
   "source": [
    "Dividing Independent data and dependent data"
   ]
  },
  {
   "cell_type": "code",
   "execution_count": 6,
   "metadata": {},
   "outputs": [],
   "source": [
    "trainX = trainingSet.loc[:,:'LOC_TOTAL']\n",
    "trainY = trainingSet.loc[:,'DEFECTIVE']\n",
    "testX = testSet.loc[:,:'LOC_TOTAL']\n",
    "testY = testSet.loc[:,'DEFECTIVE']"
   ]
  },
  {
   "cell_type": "code",
   "execution_count": 7,
   "metadata": {},
   "outputs": [
    {
     "name": "stdout",
     "output_type": "stream",
     "text": [
      "Non-Defective:  182 \n",
      "Defective:  182\n"
     ]
    }
   ],
   "source": [
    "patternCount = (len(trainY.loc[trainY == -1]),len(trainY.loc[trainY == 1]))\n",
    "print(\"Non-Defective: \",patternCount[0],\"\\nDefective: \",patternCount[1])"
   ]
  },
  {
   "cell_type": "markdown",
   "metadata": {},
   "source": [
    "For More information about the data. Finding Correlation between Data. \n",
    "As it seems Below categories has Strong Correlations between them.\n",
    "\n",
    "1. CYCLOMATIC_COMPLEXITY\n",
    "2. DESIGN_COMPLEXITY\n",
    "3. ESSENTIAL_COMPLEXITY\n",
    "\n"
   ]
  },
  {
   "cell_type": "code",
   "execution_count": 8,
   "metadata": {},
   "outputs": [
    {
     "data": {
      "text/plain": [
       "<matplotlib.colorbar.Colorbar at 0x1a22896550>"
      ]
     },
     "execution_count": 8,
     "metadata": {},
     "output_type": "execute_result"
    },
    {
     "data": {
      "image/png": "[encoded data removed]",
      "text/plain": [
       "<Figure size 288x288 with 2 Axes>"
      ]
     },
     "metadata": {
      "needs_background": "light"
     },
     "output_type": "display_data"
    }
   ],
   "source": [
    "plt.matshow(trainX.corr())\n",
    "plt.colorbar()"
   ]
  },
  {
   "cell_type": "markdown",
   "metadata": {},
   "source": [
    "Task1\n",
    "c) Choose an attribute and generate a boxplot for the two classes in the training set"
   ]
  },
  {
   "cell_type": "markdown",
   "metadata": {},
   "source": [
    "Using Box Plot for Design Complexity for defective and non defective "
   ]
  },
  {
   "cell_type": "code",
   "execution_count": 9,
   "metadata": {},
   "outputs": [
    {
     "data": {
      "text/plain": [
       "(0, 40)"
      ]
     },
     "execution_count": 9,
     "metadata": {},
     "output_type": "execute_result"
    },
    {
     "data": {
      "image/png": "[encoded data removed]",
      "text/plain": [
       "<Figure size 432x288 with 2 Axes>"
      ]
     },
     "metadata": {
      "needs_background": "light"
     },
     "output_type": "display_data"
    }
   ],
   "source": [
    "defectTrain = trainX.iloc[np.where(trainY == 1)]\n",
    "ndefectTrain = trainX.iloc[np.where(trainY == -1)]\n",
    "plt.subplot(1,2,1)\n",
    "plt.boxplot(defectTrain.loc[defectTrain.index,'DESIGN_COMPLEXITY'])\n",
    "plt.title('Defective')\n",
    "plt.subplot(1,2,2)\n",
    "plt.boxplot(ndefectTrain.loc[ndefectTrain.index,'DESIGN_COMPLEXITY'])\n",
    "plt.title('Non-Defective')\n",
    "plt.ylim(0,40)"
   ]
  },
  {
   "cell_type": "markdown",
   "metadata": {},
   "source": [
    "Task1\n",
    "d) Show one scatter plot, that is, one feature against another feature. It is your choice to show which\n",
    "two features you want to use. You need to use the training set"
   ]
  },
  {
   "cell_type": "markdown",
   "metadata": {},
   "source": [
    "Scatter plot against Design complexity vs CYCLOMATIC_COMPLEXITY\n",
    "Result:\n",
    "As the Design Complexity increases The Cyclomatic Complexity as also increases.\n",
    "Data is showing exponential growth."
   ]
  },
  {
   "cell_type": "code",
   "execution_count": 10,
   "metadata": {},
   "outputs": [
    {
     "data": {
      "text/plain": [
       "<matplotlib.collections.PathCollection at 0x10edc8050>"
      ]
     },
     "execution_count": 10,
     "metadata": {},
     "output_type": "execute_result"
    },
    {
     "data": {
      "image/png": "[encoded data removed]",
      "text/plain": [
       "<Figure size 432x288 with 1 Axes>"
      ]
     },
     "metadata": {
      "needs_background": "light"
     },
     "output_type": "display_data"
    }
   ],
   "source": [
    "plt.scatter(trainX.loc[:,'DESIGN_COMPLEXITY'],trainX.loc[:,'CYCLOMATIC_COMPLEXITY'])"
   ]
  },
  {
   "cell_type": "code",
   "execution_count": 11,
   "metadata": {},
   "outputs": [
    {
     "data": {
      "text/plain": [
       "<matplotlib.collections.PathCollection at 0x10d501a90>"
      ]
     },
     "execution_count": 11,
     "metadata": {},
     "output_type": "execute_result"
    },
    {
     "data": {
      "image/png": "[encoded data removed]",
      "text/plain": [
       "<Figure size 432x288 with 1 Axes>"
      ]
     },
     "metadata": {
      "needs_background": "light"
     },
     "output_type": "display_data"
    }
   ],
   "source": [
    "plt.scatter(trainX.loc[:,'DESIGN_COMPLEXITY'],trainX.loc[:,'ESSENTIAL_COMPLEXITY'])"
   ]
  },
  {
   "cell_type": "markdown",
   "metadata": {},
   "source": [
    "Task 1\n",
    "e) Divide the original training set into a smaller training set (II) and a validation set. In this task, you\n",
    "need to use 55% of total training data points as the validation set"
   ]
  },
  {
   "cell_type": "markdown",
   "metadata": {},
   "source": [
    "Dividing Training Set \n",
    "    - Training set 45%\n",
    "    - Validation set 55%"
   ]
  },
  {
   "cell_type": "code",
   "execution_count": 12,
   "metadata": {},
   "outputs": [],
   "source": [
    "#from sklearn.preprocessing import normalize"
   ]
  },
  {
   "cell_type": "code",
   "execution_count": 13,
   "metadata": {},
   "outputs": [],
   "source": [
    "#trainX = normalize(trainX)\n",
    "#trainX"
   ]
  },
  {
   "cell_type": "code",
   "execution_count": 14,
   "metadata": {},
   "outputs": [
    {
     "name": "stderr",
     "output_type": "stream",
     "text": [
      "/Users/ethender/opt/anaconda3/lib/python3.7/importlib/_bootstrap.py:219: RuntimeWarning: numpy.ufunc size changed, may indicate binary incompatibility. Expected 192 from C header, got 216 from PyObject\n",
      "  return f(*args, **kwds)\n"
     ]
    }
   ],
   "source": [
    "from sklearn.model_selection import train_test_split"
   ]
  },
  {
   "cell_type": "code",
   "execution_count": 15,
   "metadata": {},
   "outputs": [],
   "source": [
    "code_Training_X,code_Validation_X,code_training_Y,code_Validation_Y = train_test_split(trainX,trainY,test_size=0.55,random_state=42)"
   ]
  },
  {
   "cell_type": "markdown",
   "metadata": {},
   "source": [
    "<h1>PCA</h1>\n",
    "<p>a. Perform a PCA analysis on the original training data set </p>"
   ]
  },
  {
   "cell_type": "code",
   "execution_count": 16,
   "metadata": {},
   "outputs": [
    {
     "data": {
      "text/html": [
       "<div>\n",
       "<style scoped>\n",
       "    .dataframe tbody tr th:only-of-type {\n",
       "        vertical-align: middle;\n",
       "    }\n",
       "\n",
       "    .dataframe tbody tr th {\n",
       "        vertical-align: top;\n",
       "    }\n",
       "\n",
       "    .dataframe thead th {\n",
       "        text-align: right;\n",
       "    }\n",
       "</style>\n",
       "<table border=\"1\" class=\"dataframe\">\n",
       "  <thead>\n",
       "    <tr style=\"text-align: right;\">\n",
       "      <th></th>\n",
       "      <th>LOC_BLANK</th>\n",
       "      <th>BRANCH_COUNT</th>\n",
       "      <th>LOC_CODE_AND_COMMENT</th>\n",
       "      <th>LOC_COMMENTS</th>\n",
       "      <th>CYCLOMATIC_COMPLEXITY</th>\n",
       "      <th>DESIGN_COMPLEXITY</th>\n",
       "      <th>ESSENTIAL_COMPLEXITY</th>\n",
       "      <th>LOC_EXECUTABLE</th>\n",
       "      <th>NUM_OPERANDS</th>\n",
       "      <th>NUM_OPERATORS</th>\n",
       "      <th>NUM_UNIQUE_OPERANDS</th>\n",
       "      <th>NUM_UNIQUE_OPERATORS</th>\n",
       "      <th>LOC_TOTAL</th>\n",
       "    </tr>\n",
       "  </thead>\n",
       "  <tbody>\n",
       "    <tr>\n",
       "      <th>310</th>\n",
       "      <td>0</td>\n",
       "      <td>1</td>\n",
       "      <td>0</td>\n",
       "      <td>2</td>\n",
       "      <td>1</td>\n",
       "      <td>1</td>\n",
       "      <td>1</td>\n",
       "      <td>4</td>\n",
       "      <td>3</td>\n",
       "      <td>7</td>\n",
       "      <td>2</td>\n",
       "      <td>6</td>\n",
       "      <td>8</td>\n",
       "    </tr>\n",
       "    <tr>\n",
       "      <th>250</th>\n",
       "      <td>1</td>\n",
       "      <td>5</td>\n",
       "      <td>1</td>\n",
       "      <td>5</td>\n",
       "      <td>3</td>\n",
       "      <td>3</td>\n",
       "      <td>1</td>\n",
       "      <td>24</td>\n",
       "      <td>33</td>\n",
       "      <td>40</td>\n",
       "      <td>13</td>\n",
       "      <td>12</td>\n",
       "      <td>34</td>\n",
       "    </tr>\n",
       "    <tr>\n",
       "      <th>120</th>\n",
       "      <td>1</td>\n",
       "      <td>7</td>\n",
       "      <td>0</td>\n",
       "      <td>0</td>\n",
       "      <td>4</td>\n",
       "      <td>4</td>\n",
       "      <td>3</td>\n",
       "      <td>12</td>\n",
       "      <td>19</td>\n",
       "      <td>30</td>\n",
       "      <td>8</td>\n",
       "      <td>14</td>\n",
       "      <td>15</td>\n",
       "    </tr>\n",
       "    <tr>\n",
       "      <th>280</th>\n",
       "      <td>0</td>\n",
       "      <td>1</td>\n",
       "      <td>0</td>\n",
       "      <td>0</td>\n",
       "      <td>1</td>\n",
       "      <td>1</td>\n",
       "      <td>1</td>\n",
       "      <td>6</td>\n",
       "      <td>4</td>\n",
       "      <td>1</td>\n",
       "      <td>4</td>\n",
       "      <td>1</td>\n",
       "      <td>8</td>\n",
       "    </tr>\n",
       "    <tr>\n",
       "      <th>209</th>\n",
       "      <td>16</td>\n",
       "      <td>15</td>\n",
       "      <td>0</td>\n",
       "      <td>19</td>\n",
       "      <td>8</td>\n",
       "      <td>7</td>\n",
       "      <td>5</td>\n",
       "      <td>88</td>\n",
       "      <td>116</td>\n",
       "      <td>156</td>\n",
       "      <td>59</td>\n",
       "      <td>18</td>\n",
       "      <td>125</td>\n",
       "    </tr>\n",
       "    <tr>\n",
       "      <th>...</th>\n",
       "      <td>...</td>\n",
       "      <td>...</td>\n",
       "      <td>...</td>\n",
       "      <td>...</td>\n",
       "      <td>...</td>\n",
       "      <td>...</td>\n",
       "      <td>...</td>\n",
       "      <td>...</td>\n",
       "      <td>...</td>\n",
       "      <td>...</td>\n",
       "      <td>...</td>\n",
       "      <td>...</td>\n",
       "      <td>...</td>\n",
       "    </tr>\n",
       "    <tr>\n",
       "      <th>71</th>\n",
       "      <td>3</td>\n",
       "      <td>7</td>\n",
       "      <td>0</td>\n",
       "      <td>0</td>\n",
       "      <td>4</td>\n",
       "      <td>4</td>\n",
       "      <td>1</td>\n",
       "      <td>11</td>\n",
       "      <td>34</td>\n",
       "      <td>52</td>\n",
       "      <td>21</td>\n",
       "      <td>11</td>\n",
       "      <td>16</td>\n",
       "    </tr>\n",
       "    <tr>\n",
       "      <th>106</th>\n",
       "      <td>2</td>\n",
       "      <td>3</td>\n",
       "      <td>0</td>\n",
       "      <td>0</td>\n",
       "      <td>2</td>\n",
       "      <td>2</td>\n",
       "      <td>1</td>\n",
       "      <td>14</td>\n",
       "      <td>11</td>\n",
       "      <td>22</td>\n",
       "      <td>7</td>\n",
       "      <td>9</td>\n",
       "      <td>18</td>\n",
       "    </tr>\n",
       "    <tr>\n",
       "      <th>270</th>\n",
       "      <td>2</td>\n",
       "      <td>11</td>\n",
       "      <td>0</td>\n",
       "      <td>0</td>\n",
       "      <td>6</td>\n",
       "      <td>6</td>\n",
       "      <td>3</td>\n",
       "      <td>37</td>\n",
       "      <td>43</td>\n",
       "      <td>71</td>\n",
       "      <td>20</td>\n",
       "      <td>18</td>\n",
       "      <td>44</td>\n",
       "    </tr>\n",
       "    <tr>\n",
       "      <th>348</th>\n",
       "      <td>7</td>\n",
       "      <td>33</td>\n",
       "      <td>1</td>\n",
       "      <td>2</td>\n",
       "      <td>17</td>\n",
       "      <td>17</td>\n",
       "      <td>10</td>\n",
       "      <td>79</td>\n",
       "      <td>63</td>\n",
       "      <td>141</td>\n",
       "      <td>26</td>\n",
       "      <td>16</td>\n",
       "      <td>91</td>\n",
       "    </tr>\n",
       "    <tr>\n",
       "      <th>102</th>\n",
       "      <td>1</td>\n",
       "      <td>1</td>\n",
       "      <td>0</td>\n",
       "      <td>3</td>\n",
       "      <td>1</td>\n",
       "      <td>1</td>\n",
       "      <td>1</td>\n",
       "      <td>5</td>\n",
       "      <td>4</td>\n",
       "      <td>7</td>\n",
       "      <td>3</td>\n",
       "      <td>6</td>\n",
       "      <td>12</td>\n",
       "    </tr>\n",
       "  </tbody>\n",
       "</table>\n",
       "<p>163 rows × 13 columns</p>\n",
       "</div>"
      ],
      "text/plain": [
       "     LOC_BLANK  BRANCH_COUNT  LOC_CODE_AND_COMMENT  LOC_COMMENTS  \\\n",
       "310          0             1                     0             2   \n",
       "250          1             5                     1             5   \n",
       "120          1             7                     0             0   \n",
       "280          0             1                     0             0   \n",
       "209         16            15                     0            19   \n",
       "..         ...           ...                   ...           ...   \n",
       "71           3             7                     0             0   \n",
       "106          2             3                     0             0   \n",
       "270          2            11                     0             0   \n",
       "348          7            33                     1             2   \n",
       "102          1             1                     0             3   \n",
       "\n",
       "     CYCLOMATIC_COMPLEXITY  DESIGN_COMPLEXITY  ESSENTIAL_COMPLEXITY  \\\n",
       "310                      1                  1                     1   \n",
       "250                      3                  3                     1   \n",
       "120                      4                  4                     3   \n",
       "280                      1                  1                     1   \n",
       "209                      8                  7                     5   \n",
       "..                     ...                ...                   ...   \n",
       "71                       4                  4                     1   \n",
       "106                      2                  2                     1   \n",
       "270                      6                  6                     3   \n",
       "348                     17                 17                    10   \n",
       "102                      1                  1                     1   \n",
       "\n",
       "     LOC_EXECUTABLE  NUM_OPERANDS  NUM_OPERATORS  NUM_UNIQUE_OPERANDS  \\\n",
       "310               4             3              7                    2   \n",
       "250              24            33             40                   13   \n",
       "120              12            19             30                    8   \n",
       "280               6             4              1                    4   \n",
       "209              88           116            156                   59   \n",
       "..              ...           ...            ...                  ...   \n",
       "71               11            34             52                   21   \n",
       "106              14            11             22                    7   \n",
       "270              37            43             71                   20   \n",
       "348              79            63            141                   26   \n",
       "102               5             4              7                    3   \n",
       "\n",
       "     NUM_UNIQUE_OPERATORS  LOC_TOTAL  \n",
       "310                     6          8  \n",
       "250                    12         34  \n",
       "120                    14         15  \n",
       "280                     1          8  \n",
       "209                    18        125  \n",
       "..                    ...        ...  \n",
       "71                     11         16  \n",
       "106                     9         18  \n",
       "270                    18         44  \n",
       "348                    16         91  \n",
       "102                     6         12  \n",
       "\n",
       "[163 rows x 13 columns]"
      ]
     },
     "execution_count": 16,
     "metadata": {},
     "output_type": "execute_result"
    }
   ],
   "source": [
    "code_Training_X"
   ]
  },
  {
   "cell_type": "code",
   "execution_count": 17,
   "metadata": {},
   "outputs": [],
   "source": [
    "pcColumnNames = []\n",
    "for i in range(1,14):\n",
    "    pcColumnNames.append('PC'+str(i))"
   ]
  },
  {
   "cell_type": "code",
   "execution_count": 21,
   "metadata": {},
   "outputs": [
    {
     "data": {
      "text/html": [
       "<div>\n",
       "<style scoped>\n",
       "    .dataframe tbody tr th:only-of-type {\n",
       "        vertical-align: middle;\n",
       "    }\n",
       "\n",
       "    .dataframe tbody tr th {\n",
       "        vertical-align: top;\n",
       "    }\n",
       "\n",
       "    .dataframe thead th {\n",
       "        text-align: right;\n",
       "    }\n",
       "</style>\n",
       "<table border=\"1\" class=\"dataframe\">\n",
       "  <thead>\n",
       "    <tr style=\"text-align: right;\">\n",
       "      <th></th>\n",
       "      <th>PC1</th>\n",
       "      <th>PC2</th>\n",
       "      <th>PC3</th>\n",
       "      <th>PC4</th>\n",
       "      <th>PC5</th>\n",
       "      <th>PC6</th>\n",
       "      <th>PC7</th>\n",
       "      <th>PC8</th>\n",
       "      <th>PC9</th>\n",
       "      <th>PC10</th>\n",
       "      <th>PC11</th>\n",
       "      <th>PC12</th>\n",
       "      <th>PC13</th>\n",
       "    </tr>\n",
       "  </thead>\n",
       "  <tbody>\n",
       "    <tr>\n",
       "      <th>359</th>\n",
       "      <td>7.744635</td>\n",
       "      <td>5.923184</td>\n",
       "      <td>4.650574</td>\n",
       "      <td>-0.171783</td>\n",
       "      <td>0.700800</td>\n",
       "      <td>0.108545</td>\n",
       "      <td>-0.796502</td>\n",
       "      <td>1.158606</td>\n",
       "      <td>0.055608</td>\n",
       "      <td>-0.717879</td>\n",
       "      <td>-0.168391</td>\n",
       "      <td>-0.105099</td>\n",
       "      <td>-0.022531</td>\n",
       "    </tr>\n",
       "    <tr>\n",
       "      <th>360</th>\n",
       "      <td>7.144156</td>\n",
       "      <td>-0.566062</td>\n",
       "      <td>-0.789857</td>\n",
       "      <td>-1.044655</td>\n",
       "      <td>-1.185891</td>\n",
       "      <td>-0.799060</td>\n",
       "      <td>0.715051</td>\n",
       "      <td>-0.139595</td>\n",
       "      <td>-0.204545</td>\n",
       "      <td>-0.243865</td>\n",
       "      <td>-0.034647</td>\n",
       "      <td>0.015533</td>\n",
       "      <td>-0.025846</td>\n",
       "    </tr>\n",
       "    <tr>\n",
       "      <th>361</th>\n",
       "      <td>-2.772474</td>\n",
       "      <td>0.012934</td>\n",
       "      <td>0.045608</td>\n",
       "      <td>0.477666</td>\n",
       "      <td>-0.147097</td>\n",
       "      <td>-0.176938</td>\n",
       "      <td>0.022598</td>\n",
       "      <td>0.063324</td>\n",
       "      <td>0.101304</td>\n",
       "      <td>0.028445</td>\n",
       "      <td>0.012273</td>\n",
       "      <td>0.002511</td>\n",
       "      <td>-0.020033</td>\n",
       "    </tr>\n",
       "    <tr>\n",
       "      <th>362</th>\n",
       "      <td>-0.527739</td>\n",
       "      <td>0.975864</td>\n",
       "      <td>-0.996385</td>\n",
       "      <td>0.700515</td>\n",
       "      <td>-0.265846</td>\n",
       "      <td>0.694807</td>\n",
       "      <td>-0.146325</td>\n",
       "      <td>0.256976</td>\n",
       "      <td>-0.026150</td>\n",
       "      <td>-0.035737</td>\n",
       "      <td>-0.007242</td>\n",
       "      <td>-0.012170</td>\n",
       "      <td>-0.008238</td>\n",
       "    </tr>\n",
       "    <tr>\n",
       "      <th>363</th>\n",
       "      <td>1.813310</td>\n",
       "      <td>0.399288</td>\n",
       "      <td>0.804280</td>\n",
       "      <td>-0.605968</td>\n",
       "      <td>-0.012705</td>\n",
       "      <td>-0.647596</td>\n",
       "      <td>0.092590</td>\n",
       "      <td>-0.034235</td>\n",
       "      <td>-0.324230</td>\n",
       "      <td>0.034798</td>\n",
       "      <td>0.060096</td>\n",
       "      <td>0.026300</td>\n",
       "      <td>0.044582</td>\n",
       "    </tr>\n",
       "  </tbody>\n",
       "</table>\n",
       "</div>"
      ],
      "text/plain": [
       "          PC1       PC2       PC3       PC4       PC5       PC6       PC7  \\\n",
       "359  7.744635  5.923184  4.650574 -0.171783  0.700800  0.108545 -0.796502   \n",
       "360  7.144156 -0.566062 -0.789857 -1.044655 -1.185891 -0.799060  0.715051   \n",
       "361 -2.772474  0.012934  0.045608  0.477666 -0.147097 -0.176938  0.022598   \n",
       "362 -0.527739  0.975864 -0.996385  0.700515 -0.265846  0.694807 -0.146325   \n",
       "363  1.813310  0.399288  0.804280 -0.605968 -0.012705 -0.647596  0.092590   \n",
       "\n",
       "          PC8       PC9      PC10      PC11      PC12      PC13  \n",
       "359  1.158606  0.055608 -0.717879 -0.168391 -0.105099 -0.022531  \n",
       "360 -0.139595 -0.204545 -0.243865 -0.034647  0.015533 -0.025846  \n",
       "361  0.063324  0.101304  0.028445  0.012273  0.002511 -0.020033  \n",
       "362  0.256976 -0.026150 -0.035737 -0.007242 -0.012170 -0.008238  \n",
       "363 -0.034235 -0.324230  0.034798  0.060096  0.026300  0.044582  "
      ]
     },
     "execution_count": 21,
     "metadata": {},
     "output_type": "execute_result"
    }
   ],
   "source": [
    "from sklearn.preprocessing import StandardScaler, normalize\n",
    "from sklearn.decomposition import PCA\n",
    "scalar = StandardScaler()\n",
    "normalised_data = scalar.fit_transform(trainX)\n",
    "pca = PCA(n_components=13)\n",
    "codeTrainPCA = pca.fit_transform(normalised_data)\n",
    "principal_component_DF = pd.DataFrame(data=codeTrainPCA,columns=pcColumnNames)\n",
    "principal_component_DF.tail()"
   ]
  },
  {
   "cell_type": "code",
   "execution_count": 22,
   "metadata": {},
   "outputs": [
    {
     "data": {
      "text/html": [
       "<div>\n",
       "<style scoped>\n",
       "    .dataframe tbody tr th:only-of-type {\n",
       "        vertical-align: middle;\n",
       "    }\n",
       "\n",
       "    .dataframe tbody tr th {\n",
       "        vertical-align: top;\n",
       "    }\n",
       "\n",
       "    .dataframe thead th {\n",
       "        text-align: right;\n",
       "    }\n",
       "</style>\n",
       "<table border=\"1\" class=\"dataframe\">\n",
       "  <thead>\n",
       "    <tr style=\"text-align: right;\">\n",
       "      <th></th>\n",
       "      <th>PC1</th>\n",
       "      <th>PC2</th>\n",
       "      <th>PC3</th>\n",
       "      <th>PC4</th>\n",
       "      <th>PC5</th>\n",
       "      <th>PC6</th>\n",
       "      <th>PC7</th>\n",
       "      <th>PC8</th>\n",
       "      <th>PC9</th>\n",
       "      <th>PC10</th>\n",
       "      <th>PC11</th>\n",
       "      <th>PC12</th>\n",
       "      <th>PC13</th>\n",
       "    </tr>\n",
       "  </thead>\n",
       "  <tbody>\n",
       "    <tr>\n",
       "      <th>131</th>\n",
       "      <td>1.238751</td>\n",
       "      <td>0.464309</td>\n",
       "      <td>-1.734502</td>\n",
       "      <td>-0.120042</td>\n",
       "      <td>-0.429827</td>\n",
       "      <td>0.138743</td>\n",
       "      <td>0.416658</td>\n",
       "      <td>-0.129755</td>\n",
       "      <td>-0.046953</td>\n",
       "      <td>-0.140427</td>\n",
       "      <td>-0.047527</td>\n",
       "      <td>-0.040223</td>\n",
       "      <td>-0.001137</td>\n",
       "    </tr>\n",
       "    <tr>\n",
       "      <th>132</th>\n",
       "      <td>0.612569</td>\n",
       "      <td>-0.465321</td>\n",
       "      <td>0.524918</td>\n",
       "      <td>-0.370464</td>\n",
       "      <td>0.000630</td>\n",
       "      <td>0.155115</td>\n",
       "      <td>-0.447765</td>\n",
       "      <td>-0.092937</td>\n",
       "      <td>0.095679</td>\n",
       "      <td>-0.077284</td>\n",
       "      <td>-0.019992</td>\n",
       "      <td>-0.012820</td>\n",
       "      <td>0.003772</td>\n",
       "    </tr>\n",
       "    <tr>\n",
       "      <th>133</th>\n",
       "      <td>-2.585034</td>\n",
       "      <td>0.041646</td>\n",
       "      <td>-0.324537</td>\n",
       "      <td>0.420174</td>\n",
       "      <td>0.528864</td>\n",
       "      <td>-0.208226</td>\n",
       "      <td>-0.117192</td>\n",
       "      <td>0.050921</td>\n",
       "      <td>0.068790</td>\n",
       "      <td>0.050847</td>\n",
       "      <td>0.038009</td>\n",
       "      <td>-0.019715</td>\n",
       "      <td>0.001065</td>\n",
       "    </tr>\n",
       "    <tr>\n",
       "      <th>134</th>\n",
       "      <td>-2.394771</td>\n",
       "      <td>-0.003274</td>\n",
       "      <td>-0.277185</td>\n",
       "      <td>0.409977</td>\n",
       "      <td>0.345994</td>\n",
       "      <td>-0.247220</td>\n",
       "      <td>-0.100609</td>\n",
       "      <td>-0.005448</td>\n",
       "      <td>0.064823</td>\n",
       "      <td>0.044776</td>\n",
       "      <td>0.024341</td>\n",
       "      <td>-0.043983</td>\n",
       "      <td>-0.000669</td>\n",
       "    </tr>\n",
       "    <tr>\n",
       "      <th>135</th>\n",
       "      <td>-1.646148</td>\n",
       "      <td>-0.044965</td>\n",
       "      <td>0.178638</td>\n",
       "      <td>-0.199601</td>\n",
       "      <td>-0.106839</td>\n",
       "      <td>-0.117197</td>\n",
       "      <td>-0.401828</td>\n",
       "      <td>0.145874</td>\n",
       "      <td>-0.036889</td>\n",
       "      <td>-0.072934</td>\n",
       "      <td>0.014487</td>\n",
       "      <td>0.047653</td>\n",
       "      <td>0.001624</td>\n",
       "    </tr>\n",
       "  </tbody>\n",
       "</table>\n",
       "</div>"
      ],
      "text/plain": [
       "          PC1       PC2       PC3       PC4       PC5       PC6       PC7  \\\n",
       "131  1.238751  0.464309 -1.734502 -0.120042 -0.429827  0.138743  0.416658   \n",
       "132  0.612569 -0.465321  0.524918 -0.370464  0.000630  0.155115 -0.447765   \n",
       "133 -2.585034  0.041646 -0.324537  0.420174  0.528864 -0.208226 -0.117192   \n",
       "134 -2.394771 -0.003274 -0.277185  0.409977  0.345994 -0.247220 -0.100609   \n",
       "135 -1.646148 -0.044965  0.178638 -0.199601 -0.106839 -0.117197 -0.401828   \n",
       "\n",
       "          PC8       PC9      PC10      PC11      PC12      PC13  \n",
       "131 -0.129755 -0.046953 -0.140427 -0.047527 -0.040223 -0.001137  \n",
       "132 -0.092937  0.095679 -0.077284 -0.019992 -0.012820  0.003772  \n",
       "133  0.050921  0.068790  0.050847  0.038009 -0.019715  0.001065  \n",
       "134 -0.005448  0.064823  0.044776  0.024341 -0.043983 -0.000669  \n",
       "135  0.145874 -0.036889 -0.072934  0.014487  0.047653  0.001624  "
      ]
     },
     "execution_count": 22,
     "metadata": {},
     "output_type": "execute_result"
    }
   ],
   "source": [
    "test_normalised = scalar.fit_transform(testX)\n",
    "codeTestPCA = pca.fit_transform(test_normalised)\n",
    "pc_test_Df = pd.DataFrame(data=codeTestPCA,columns=pcColumnNames)\n",
    "pc_test_Df.tail()"
   ]
  },
  {
   "cell_type": "code",
   "execution_count": 23,
   "metadata": {
    "scrolled": true
   },
   "outputs": [
    {
     "data": {
      "text/plain": [
       "[<matplotlib.lines.Line2D at 0x1a23f4aa90>]"
      ]
     },
     "execution_count": 23,
     "metadata": {},
     "output_type": "execute_result"
    },
    {
     "data": {
      "image/png": "[encoded data removed]",
      "text/plain": [
       "<Figure size 432x288 with 1 Axes>"
      ]
     },
     "metadata": {
      "needs_background": "light"
     },
     "output_type": "display_data"
    }
   ],
   "source": [
    "plt.plot(pca.explained_variance_, 'ro-', linewidth=2)"
   ]
  },
  {
   "cell_type": "markdown",
   "metadata": {},
   "source": [
    "https://www.datacamp.com/community/tutorials/principal-component-analysis-in-python"
   ]
  },
  {
   "cell_type": "code",
   "execution_count": 24,
   "metadata": {},
   "outputs": [
    {
     "data": {
      "text/plain": [
       "<matplotlib.legend.Legend at 0x1a240d07d0>"
      ]
     },
     "execution_count": 24,
     "metadata": {},
     "output_type": "execute_result"
    },
    {
     "data": {
      "image/png": "[encoded data removed]",
      "text/plain": [
       "<Figure size 432x288 with 1 Axes>"
      ]
     },
     "metadata": {
      "needs_background": "light"
     },
     "output_type": "display_data"
    }
   ],
   "source": [
    "colors = ['r','g']\n",
    "targets = [1,-1]\n",
    "legends = ['Defective','Non-Defective']\n",
    "plt.xlabel('PC1')\n",
    "plt.ylabel('PC2')\n",
    "plt.title('Princpal Component on Training Data')\n",
    "for target, color in zip(targets,colors):\n",
    "    indicesToKeep = trainingSet['DEFECTIVE'] == target\n",
    "    plt.scatter(principal_component_DF.loc[indicesToKeep, 'PC1']\n",
    "               , principal_component_DF.loc[indicesToKeep, 'PC2'], c = color, s = 50)\n",
    "plt.legend(legends,prop={'size': 5})"
   ]
  },
  {
   "cell_type": "code",
   "execution_count": 25,
   "metadata": {},
   "outputs": [
    {
     "data": {
      "text/plain": [
       "<matplotlib.legend.Legend at 0x1a241f7310>"
      ]
     },
     "execution_count": 25,
     "metadata": {},
     "output_type": "execute_result"
    },
    {
     "data": {
      "image/png": "[encoded data removed]",
      "text/plain": [
       "<Figure size 432x288 with 1 Axes>"
      ]
     },
     "metadata": {
      "needs_background": "light"
     },
     "output_type": "display_data"
    }
   ],
   "source": [
    "colors = ['r','g']\n",
    "targets = [1,-1]\n",
    "legends = ['Defective','Non-Defective']\n",
    "plt.xlabel('PC1')\n",
    "plt.ylabel('PC2')\n",
    "plt.title('Princpal Component on Test Data')\n",
    "for target, color in zip(targets,colors):\n",
    "    indicesToKeep = testSet['DEFECTIVE'] == target\n",
    "    plt.scatter(pc_test_Df.loc[indicesToKeep, 'PC1']\n",
    "               , pc_test_Df.loc[indicesToKeep, 'PC2'], c = color, s = 50)\n",
    "plt.legend(legends,prop={'size': 5})"
   ]
  },
  {
   "cell_type": "markdown",
   "metadata": {},
   "source": []
  },
  {
   "cell_type": "markdown",
   "metadata": {},
   "source": [
    "<h1>Task 3</h1>\n",
    "<p>\n",
    "        Do a classification using the Naïve Bayes Classification model\n",
    "    <ol><li>Train the model using the original training set and report the performance on the test set including accuracy rate.</li></ol>\n",
    "</p>"
   ]
  },
  {
   "cell_type": "code",
   "execution_count": 27,
   "metadata": {},
   "outputs": [],
   "source": [
    "from sklearn.naive_bayes import GaussianNB\n",
    "from sklearn import metrics"
   ]
  },
  {
   "cell_type": "code",
   "execution_count": 28,
   "metadata": {},
   "outputs": [
    {
     "data": {
      "text/plain": [
       "GaussianNB(priors=None, var_smoothing=1e-09)"
      ]
     },
     "execution_count": 28,
     "metadata": {},
     "output_type": "execute_result"
    }
   ],
   "source": [
    "nb = GaussianNB()\n",
    "nb.fit(trainX,trainY)"
   ]
  },
  {
   "cell_type": "code",
   "execution_count": 29,
   "metadata": {},
   "outputs": [],
   "source": [
    "predicted_Y_Test_values = nb.predict(testX)"
   ]
  },
  {
   "cell_type": "code",
   "execution_count": 30,
   "metadata": {},
   "outputs": [
    {
     "name": "stdout",
     "output_type": "stream",
     "text": [
      "Accuracy:  0.6176470588235294\n"
     ]
    }
   ],
   "source": [
    "print('Accuracy: ',metrics.accuracy_score(testY,predicted_Y_Test_values))"
   ]
  },
  {
   "cell_type": "markdown",
   "metadata": {},
   "source": [
    "<h1>\n",
    "  Task4\n",
    "</h1>\n",
    "<p>\n",
    "  <b>Investigate how the number of features in the training dataset affects the model performance on the validation set</b>\n",
    "  <ol>\n",
    "    <li>Use the training set (II) to train 13 Naïve Bayes Classification models, with 13 different feature sets. That is: the first one is to use the 1st feature only; the second one is to use the 1st and the 2nd features; the third one is to use the 1st, 2nd, and 3rd features, the fourth one is to use the first 4 features, and so on.\n",
    "Measure the accuracy rate on both the training set and the validation set. Report the results by plotting them in a figure: that is, a plot of the accuracy rate against the number of features used in each model. There should be two curves in this figure: one for the training set (II); the other one for the validation set</li>\n",
    "    <li>Report what is the best number of features you would like to use in this work and explain why you choose it. Write it down in your Jupyter notebook </li>\n",
    "    <li>Use the selected number of features to train the model and report the performance on the test set</li>\n",
    "</ol>\n",
    "</p>"
   ]
  },
  {
   "cell_type": "code",
   "execution_count": null,
   "metadata": {},
   "outputs": [],
   "source": []
  }
 ],
 "metadata": {
  "kernelspec": {
   "display_name": "Python 3",
   "language": "python",
   "name": "python3"
  },
  "language_info": {
   "codemirror_mode": {
    "name": "ipython",
    "version": 3
   },
   "file_extension": ".py",
   "mimetype": "text/x-python",
   "name": "python",
   "nbconvert_exporter": "python",
   "pygments_lexer": "ipython3",
   "version": "3.7.4"
  }
 },
 "nbformat": 4,
 "nbformat_minor": 2
}
