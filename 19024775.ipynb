{
 "cells": [
  {
   "cell_type": "code",
   "execution_count": 1,
   "metadata": {},
   "outputs": [
    {
     "name": "stderr",
     "output_type": "stream",
     "text": [
      "/Users/ethender/opt/anaconda3/lib/python3.7/site-packages/statsmodels/tools/_testing.py:19: FutureWarning: pandas.util.testing is deprecated. Use the functions in the public API at pandas.testing instead.\n",
      "  import pandas.util.testing as tm\n"
     ]
    }
   ],
   "source": [
    "import pandas as pd\n",
    "import numpy as np\n",
    "import matplotlib as mlt\n",
    "import matplotlib.pyplot as plt\n",
    "import seaborn as sns"
   ]
  },
  {
   "cell_type": "markdown",
   "metadata": {},
   "source": [
    "<h1>Task1: Data pre-processing and data exploration</h1>"
   ]
  },
  {
   "cell_type": "markdown",
   "metadata": {},
   "source": [
    "<p><b>a)</b> Use Pandas to load both trainingSet.csv and testingSet.csv (1 mark).\n",
    "Loaded the Training set and Test set</p>"
   ]
  },
  {
   "cell_type": "code",
   "execution_count": 2,
   "metadata": {},
   "outputs": [
    {
     "data": {
      "text/html": [
       "<div>\n",
       "<style scoped>\n",
       "    .dataframe tbody tr th:only-of-type {\n",
       "        vertical-align: middle;\n",
       "    }\n",
       "\n",
       "    .dataframe tbody tr th {\n",
       "        vertical-align: top;\n",
       "    }\n",
       "\n",
       "    .dataframe thead th {\n",
       "        text-align: right;\n",
       "    }\n",
       "</style>\n",
       "<table border=\"1\" class=\"dataframe\">\n",
       "  <thead>\n",
       "    <tr style=\"text-align: right;\">\n",
       "      <th></th>\n",
       "      <th>LOC_BLANK</th>\n",
       "      <th>BRANCH_COUNT</th>\n",
       "      <th>LOC_CODE_AND_COMMENT</th>\n",
       "      <th>LOC_COMMENTS</th>\n",
       "      <th>CYCLOMATIC_COMPLEXITY</th>\n",
       "      <th>DESIGN_COMPLEXITY</th>\n",
       "      <th>ESSENTIAL_COMPLEXITY</th>\n",
       "      <th>LOC_EXECUTABLE</th>\n",
       "      <th>NUM_OPERANDS</th>\n",
       "      <th>NUM_OPERATORS</th>\n",
       "      <th>NUM_UNIQUE_OPERANDS</th>\n",
       "      <th>NUM_UNIQUE_OPERATORS</th>\n",
       "      <th>LOC_TOTAL</th>\n",
       "      <th>DEFECTIVE</th>\n",
       "    </tr>\n",
       "  </thead>\n",
       "  <tbody>\n",
       "    <tr>\n",
       "      <th>0</th>\n",
       "      <td>0</td>\n",
       "      <td>1</td>\n",
       "      <td>0</td>\n",
       "      <td>0</td>\n",
       "      <td>1</td>\n",
       "      <td>1</td>\n",
       "      <td>1</td>\n",
       "      <td>7</td>\n",
       "      <td>12</td>\n",
       "      <td>19</td>\n",
       "      <td>7</td>\n",
       "      <td>4</td>\n",
       "      <td>9</td>\n",
       "      <td>1</td>\n",
       "    </tr>\n",
       "    <tr>\n",
       "      <th>1</th>\n",
       "      <td>2</td>\n",
       "      <td>1</td>\n",
       "      <td>0</td>\n",
       "      <td>0</td>\n",
       "      <td>1</td>\n",
       "      <td>1</td>\n",
       "      <td>1</td>\n",
       "      <td>6</td>\n",
       "      <td>8</td>\n",
       "      <td>8</td>\n",
       "      <td>6</td>\n",
       "      <td>4</td>\n",
       "      <td>10</td>\n",
       "      <td>-1</td>\n",
       "    </tr>\n",
       "    <tr>\n",
       "      <th>2</th>\n",
       "      <td>3</td>\n",
       "      <td>9</td>\n",
       "      <td>0</td>\n",
       "      <td>3</td>\n",
       "      <td>1</td>\n",
       "      <td>1</td>\n",
       "      <td>1</td>\n",
       "      <td>24</td>\n",
       "      <td>22</td>\n",
       "      <td>33</td>\n",
       "      <td>13</td>\n",
       "      <td>11</td>\n",
       "      <td>33</td>\n",
       "      <td>1</td>\n",
       "    </tr>\n",
       "    <tr>\n",
       "      <th>3</th>\n",
       "      <td>0</td>\n",
       "      <td>1</td>\n",
       "      <td>0</td>\n",
       "      <td>0</td>\n",
       "      <td>1</td>\n",
       "      <td>1</td>\n",
       "      <td>1</td>\n",
       "      <td>1</td>\n",
       "      <td>1</td>\n",
       "      <td>2</td>\n",
       "      <td>1</td>\n",
       "      <td>2</td>\n",
       "      <td>4</td>\n",
       "      <td>-1</td>\n",
       "    </tr>\n",
       "    <tr>\n",
       "      <th>4</th>\n",
       "      <td>0</td>\n",
       "      <td>1</td>\n",
       "      <td>0</td>\n",
       "      <td>0</td>\n",
       "      <td>1</td>\n",
       "      <td>1</td>\n",
       "      <td>1</td>\n",
       "      <td>7</td>\n",
       "      <td>10</td>\n",
       "      <td>15</td>\n",
       "      <td>8</td>\n",
       "      <td>8</td>\n",
       "      <td>12</td>\n",
       "      <td>-1</td>\n",
       "    </tr>\n",
       "    <tr>\n",
       "      <th>...</th>\n",
       "      <td>...</td>\n",
       "      <td>...</td>\n",
       "      <td>...</td>\n",
       "      <td>...</td>\n",
       "      <td>...</td>\n",
       "      <td>...</td>\n",
       "      <td>...</td>\n",
       "      <td>...</td>\n",
       "      <td>...</td>\n",
       "      <td>...</td>\n",
       "      <td>...</td>\n",
       "      <td>...</td>\n",
       "      <td>...</td>\n",
       "      <td>...</td>\n",
       "    </tr>\n",
       "    <tr>\n",
       "      <th>359</th>\n",
       "      <td>12</td>\n",
       "      <td>39</td>\n",
       "      <td>6</td>\n",
       "      <td>20</td>\n",
       "      <td>20</td>\n",
       "      <td>12</td>\n",
       "      <td>7</td>\n",
       "      <td>91</td>\n",
       "      <td>140</td>\n",
       "      <td>200</td>\n",
       "      <td>61</td>\n",
       "      <td>20</td>\n",
       "      <td>131</td>\n",
       "      <td>-1</td>\n",
       "    </tr>\n",
       "    <tr>\n",
       "      <th>360</th>\n",
       "      <td>22</td>\n",
       "      <td>31</td>\n",
       "      <td>0</td>\n",
       "      <td>7</td>\n",
       "      <td>16</td>\n",
       "      <td>13</td>\n",
       "      <td>11</td>\n",
       "      <td>101</td>\n",
       "      <td>130</td>\n",
       "      <td>192</td>\n",
       "      <td>57</td>\n",
       "      <td>26</td>\n",
       "      <td>132</td>\n",
       "      <td>1</td>\n",
       "    </tr>\n",
       "    <tr>\n",
       "      <th>361</th>\n",
       "      <td>0</td>\n",
       "      <td>1</td>\n",
       "      <td>0</td>\n",
       "      <td>0</td>\n",
       "      <td>1</td>\n",
       "      <td>1</td>\n",
       "      <td>1</td>\n",
       "      <td>3</td>\n",
       "      <td>3</td>\n",
       "      <td>5</td>\n",
       "      <td>3</td>\n",
       "      <td>5</td>\n",
       "      <td>5</td>\n",
       "      <td>-1</td>\n",
       "    </tr>\n",
       "    <tr>\n",
       "      <th>362</th>\n",
       "      <td>4</td>\n",
       "      <td>7</td>\n",
       "      <td>0</td>\n",
       "      <td>11</td>\n",
       "      <td>4</td>\n",
       "      <td>4</td>\n",
       "      <td>1</td>\n",
       "      <td>23</td>\n",
       "      <td>23</td>\n",
       "      <td>38</td>\n",
       "      <td>14</td>\n",
       "      <td>10</td>\n",
       "      <td>40</td>\n",
       "      <td>-1</td>\n",
       "    </tr>\n",
       "    <tr>\n",
       "      <th>363</th>\n",
       "      <td>8</td>\n",
       "      <td>13</td>\n",
       "      <td>1</td>\n",
       "      <td>1</td>\n",
       "      <td>7</td>\n",
       "      <td>7</td>\n",
       "      <td>5</td>\n",
       "      <td>49</td>\n",
       "      <td>66</td>\n",
       "      <td>99</td>\n",
       "      <td>33</td>\n",
       "      <td>15</td>\n",
       "      <td>65</td>\n",
       "      <td>-1</td>\n",
       "    </tr>\n",
       "  </tbody>\n",
       "</table>\n",
       "<p>364 rows × 14 columns</p>\n",
       "</div>"
      ],
      "text/plain": [
       "     LOC_BLANK  BRANCH_COUNT  LOC_CODE_AND_COMMENT  LOC_COMMENTS  \\\n",
       "0            0             1                     0             0   \n",
       "1            2             1                     0             0   \n",
       "2            3             9                     0             3   \n",
       "3            0             1                     0             0   \n",
       "4            0             1                     0             0   \n",
       "..         ...           ...                   ...           ...   \n",
       "359         12            39                     6            20   \n",
       "360         22            31                     0             7   \n",
       "361          0             1                     0             0   \n",
       "362          4             7                     0            11   \n",
       "363          8            13                     1             1   \n",
       "\n",
       "     CYCLOMATIC_COMPLEXITY  DESIGN_COMPLEXITY  ESSENTIAL_COMPLEXITY  \\\n",
       "0                        1                  1                     1   \n",
       "1                        1                  1                     1   \n",
       "2                        1                  1                     1   \n",
       "3                        1                  1                     1   \n",
       "4                        1                  1                     1   \n",
       "..                     ...                ...                   ...   \n",
       "359                     20                 12                     7   \n",
       "360                     16                 13                    11   \n",
       "361                      1                  1                     1   \n",
       "362                      4                  4                     1   \n",
       "363                      7                  7                     5   \n",
       "\n",
       "     LOC_EXECUTABLE  NUM_OPERANDS  NUM_OPERATORS  NUM_UNIQUE_OPERANDS  \\\n",
       "0                 7            12             19                    7   \n",
       "1                 6             8              8                    6   \n",
       "2                24            22             33                   13   \n",
       "3                 1             1              2                    1   \n",
       "4                 7            10             15                    8   \n",
       "..              ...           ...            ...                  ...   \n",
       "359              91           140            200                   61   \n",
       "360             101           130            192                   57   \n",
       "361               3             3              5                    3   \n",
       "362              23            23             38                   14   \n",
       "363              49            66             99                   33   \n",
       "\n",
       "     NUM_UNIQUE_OPERATORS  LOC_TOTAL  DEFECTIVE  \n",
       "0                       4          9          1  \n",
       "1                       4         10         -1  \n",
       "2                      11         33          1  \n",
       "3                       2          4         -1  \n",
       "4                       8         12         -1  \n",
       "..                    ...        ...        ...  \n",
       "359                    20        131         -1  \n",
       "360                    26        132          1  \n",
       "361                     5          5         -1  \n",
       "362                    10         40         -1  \n",
       "363                    15         65         -1  \n",
       "\n",
       "[364 rows x 14 columns]"
      ]
     },
     "execution_count": 2,
     "metadata": {},
     "output_type": "execute_result"
    }
   ],
   "source": [
    "trainingSet = pd.read_csv('trainingSet.csv')\n",
    "testSet = pd.read_csv('testingSet.csv')\n",
    "trainingSet"
   ]
  },
  {
   "cell_type": "markdown",
   "metadata": {},
   "source": [
    "<p>\n",
    "      <b>Categorical Data</b><br>\n",
    "      <ul>\n",
    "        <li>DEFECTIVE</li>\n",
    "      </ul>  <br>\n",
    "      <b>Numerical Data</b><br>\n",
    "      <ul>\n",
    "        <li>Loc_Blank</li>\n",
    "        <li>Branch_count</li>\n",
    "        <li>LOC_CODE_AND_COMMENT</li>\n",
    "        <li>LOC_CODE_AND_COMMENT</li>\n",
    "        <li>LOC_COMMENTS</li>\n",
    "        <li>CYCLOMATIC_COMPLEXITY</li>\n",
    "        <li>DESIGN_COMPLEXITY</li>\n",
    "        <li>ESSENTIAL_COMPLEXITY</li>\n",
    "        <li>LOC_EXECUTABLE</li>\n",
    "        <li>NUM_OPERANDS</li>\n",
    "        <li>NUM_OPERATORS</li>\n",
    "        <li>NUM_UNIQUE_OPERANDS</li>\n",
    "        <li>NUM_UNIQUE_OPERATORS</li>\n",
    "        <li>LOC_TOTAL</li>\n",
    "      </ul>\n",
    "    </p>"
   ]
  },
  {
   "cell_type": "markdown",
   "metadata": {},
   "source": [
    "  <p>\n",
    "      <b>b)</b> Find the number of patterns in each class for both loaded data sets using Python \n",
    "    </p>"
   ]
  },
  {
   "cell_type": "markdown",
   "metadata": {},
   "source": [
    "Dividing Independent data and dependent data"
   ]
  },
  {
   "cell_type": "code",
   "execution_count": 3,
   "metadata": {},
   "outputs": [],
   "source": [
    "trainX = trainingSet.loc[:,:'LOC_TOTAL']\n",
    "trainY = trainingSet.loc[:,'DEFECTIVE']\n",
    "testX = testSet.loc[:,:'LOC_TOTAL']\n",
    "testY = testSet.loc[:,'DEFECTIVE']"
   ]
  },
  {
   "cell_type": "code",
   "execution_count": 4,
   "metadata": {},
   "outputs": [
    {
     "name": "stdout",
     "output_type": "stream",
     "text": [
      "Train \n",
      "Non-Defective:\t182\n",
      "Defective:\t182\n",
      "Test \n",
      "Non-Defective:\t68\n",
      "Defective:\t68\n"
     ]
    }
   ],
   "source": [
    "trainPatternCount = [len(trainY.loc[trainY == -1]),len(trainY.loc[trainY == 1])]\n",
    "testPatternCount = [len(testY.loc[testY == -1]),len(testY.loc[testY == 1])]\n",
    "print('Train \\n'+'Non-Defective:\\t'+str(trainPatternCount[0])+\"\\nDefective:\\t\"+str(trainPatternCount[1]))\n",
    "print('Test \\n'+'Non-Defective:\\t'+str(testPatternCount[0])+\"\\nDefective:\\t\"+str(testPatternCount[1]))"
   ]
  },
  {
   "cell_type": "markdown",
   "metadata": {},
   "source": [
    "<p>\n",
    "      <b>c)</b> Choose an attribute and generate a boxplot for the two classes in the training set\n",
    "    </p>"
   ]
  },
  {
   "cell_type": "markdown",
   "metadata": {},
   "source": [
    "<p>\n",
    "      Using Box Plot for <b><q>Design Complexity</q></b> for defective and non defective <br><br>\n",
    "    <b>Analysis</b>\n",
    "      <ul>\n",
    "        <li>After looking into the boxplot. Defective has more median than the Non-Defective.</li>\n",
    "        <li>Looking Non-Defective has more outliers than the Defective.</li>\n",
    "      </ul>\n",
    "    </p>"
   ]
  },
  {
   "cell_type": "code",
   "execution_count": 5,
   "metadata": {},
   "outputs": [
    {
     "data": {
      "text/plain": [
       "(0, 40)"
      ]
     },
     "execution_count": 5,
     "metadata": {},
     "output_type": "execute_result"
    },
    {
     "data": {
      "image/png": "[encoded data removed]",
      "text/plain": [
       "<Figure size 432x288 with 2 Axes>"
      ]
     },
     "metadata": {
      "needs_background": "light"
     },
     "output_type": "display_data"
    }
   ],
   "source": [
    "defectTrain = trainX.iloc[np.where(trainY == 1)]\n",
    "ndefectTrain = trainX.iloc[np.where(trainY == -1)]\n",
    "plt.subplot(1,2,1)\n",
    "plt.boxplot(defectTrain.loc[defectTrain.index,'DESIGN_COMPLEXITY'])\n",
    "plt.title('Defective')\n",
    "plt.subplot(1,2,2)\n",
    "plt.boxplot(ndefectTrain.loc[ndefectTrain.index,'DESIGN_COMPLEXITY'])\n",
    "plt.title('Non-Defective')\n",
    "plt.ylim(0,40)"
   ]
  },
  {
   "cell_type": "markdown",
   "metadata": {},
   "source": [
    "<p>\n",
    "    <b>d)</b> Show one scatter plot, that is, one feature against another feature. It is your choice to show which\n",
    "two features you want to use. You need to use the training set.\n",
    "  </p>"
   ]
  },
  {
   "cell_type": "markdown",
   "metadata": {},
   "source": [
    "  <p>\n",
    "    Scatter plot against Design <b>complexity vs CYCLOMATIC_COMPLEXITY</b><br><br>\n",
    "<b>Analysis</b><br>\n",
    "    As the <b>Design Complexity</b> increases  <b>Cyclomatic Complexity</b> as also increases.\n",
    "Data is showing <b><q>Linear</q></b> growth.\n",
    "  </p>"
   ]
  },
  {
   "cell_type": "code",
   "execution_count": 6,
   "metadata": {},
   "outputs": [
    {
     "data": {
      "text/plain": [
       "<matplotlib.collections.PathCollection at 0x1a1864a910>"
      ]
     },
     "execution_count": 6,
     "metadata": {},
     "output_type": "execute_result"
    },
    {
     "data": {
      "image/png": "[encoded data removed]",
      "text/plain": [
       "<Figure size 432x288 with 1 Axes>"
      ]
     },
     "metadata": {
      "needs_background": "light"
     },
     "output_type": "display_data"
    }
   ],
   "source": [
    "plt.scatter(trainX.loc[:,'DESIGN_COMPLEXITY'],trainX.loc[:,'CYCLOMATIC_COMPLEXITY'])"
   ]
  },
  {
   "cell_type": "markdown",
   "metadata": {},
   "source": [
    "<p>\n",
    "    <b>e)</b> Divide the original training set into a smaller training set (II) and a validation set. In this task, you\n",
    "need to use 55% of total training data points as the validation set.\n",
    "  </p>"
   ]
  },
  {
   "cell_type": "markdown",
   "metadata": {},
   "source": [
    "<p>\n",
    "  <b>Dividing Training Set<br>\n",
    "    <table>\n",
    "      <tr>\n",
    "        <td>Training set</td>\n",
    "        <td>45%</td>\n",
    "      </tr>\n",
    "      <tr>\n",
    "        <td>Validation set</td>\n",
    "        <td>55%</td>\n",
    "      </tr>\n",
    "    </table>\n",
    "    </b> \n",
    "</p>"
   ]
  },
  {
   "cell_type": "code",
   "execution_count": 7,
   "metadata": {},
   "outputs": [],
   "source": [
    "from sklearn.model_selection import train_test_split"
   ]
  },
  {
   "cell_type": "code",
   "execution_count": 8,
   "metadata": {},
   "outputs": [],
   "source": [
    "code_Training_X,code_Validation_X,code_training_Y,code_Validation_Y = train_test_split(trainX,trainY,test_size=0.55,random_state=42)"
   ]
  },
  {
   "cell_type": "markdown",
   "metadata": {},
   "source": [
    "<h1>\n",
    "Task 2: Do a principal component analysis </h1>"
   ]
  },
  {
   "cell_type": "markdown",
   "metadata": {},
   "source": [
    "<p><b>a)</b> Perform a PCA analysis on the original training data set.</p>"
   ]
  },
  {
   "cell_type": "code",
   "execution_count": 9,
   "metadata": {},
   "outputs": [],
   "source": [
    "pcColumnNames = []\n",
    "for i in range(1,14):\n",
    "    pcColumnNames.append('PC'+str(i))"
   ]
  },
  {
   "cell_type": "code",
   "execution_count": 10,
   "metadata": {},
   "outputs": [
    {
     "data": {
      "text/html": [
       "<div>\n",
       "<style scoped>\n",
       "    .dataframe tbody tr th:only-of-type {\n",
       "        vertical-align: middle;\n",
       "    }\n",
       "\n",
       "    .dataframe tbody tr th {\n",
       "        vertical-align: top;\n",
       "    }\n",
       "\n",
       "    .dataframe thead th {\n",
       "        text-align: right;\n",
       "    }\n",
       "</style>\n",
       "<table border=\"1\" class=\"dataframe\">\n",
       "  <thead>\n",
       "    <tr style=\"text-align: right;\">\n",
       "      <th></th>\n",
       "      <th>PC1</th>\n",
       "      <th>PC2</th>\n",
       "      <th>PC3</th>\n",
       "      <th>PC4</th>\n",
       "      <th>PC5</th>\n",
       "      <th>PC6</th>\n",
       "      <th>PC7</th>\n",
       "      <th>PC8</th>\n",
       "      <th>PC9</th>\n",
       "      <th>PC10</th>\n",
       "      <th>PC11</th>\n",
       "      <th>PC12</th>\n",
       "      <th>PC13</th>\n",
       "    </tr>\n",
       "  </thead>\n",
       "  <tbody>\n",
       "    <tr>\n",
       "      <th>359</th>\n",
       "      <td>7.744635</td>\n",
       "      <td>5.923184</td>\n",
       "      <td>4.650574</td>\n",
       "      <td>-0.171783</td>\n",
       "      <td>0.700800</td>\n",
       "      <td>0.108545</td>\n",
       "      <td>-0.796502</td>\n",
       "      <td>1.158606</td>\n",
       "      <td>0.055608</td>\n",
       "      <td>-0.717879</td>\n",
       "      <td>-0.168391</td>\n",
       "      <td>-0.105099</td>\n",
       "      <td>-0.022531</td>\n",
       "    </tr>\n",
       "    <tr>\n",
       "      <th>360</th>\n",
       "      <td>7.144156</td>\n",
       "      <td>-0.566062</td>\n",
       "      <td>-0.789857</td>\n",
       "      <td>-1.044655</td>\n",
       "      <td>-1.185891</td>\n",
       "      <td>-0.799060</td>\n",
       "      <td>0.715051</td>\n",
       "      <td>-0.139595</td>\n",
       "      <td>-0.204545</td>\n",
       "      <td>-0.243865</td>\n",
       "      <td>-0.034647</td>\n",
       "      <td>0.015533</td>\n",
       "      <td>-0.025846</td>\n",
       "    </tr>\n",
       "    <tr>\n",
       "      <th>361</th>\n",
       "      <td>-2.772474</td>\n",
       "      <td>0.012934</td>\n",
       "      <td>0.045608</td>\n",
       "      <td>0.477666</td>\n",
       "      <td>-0.147097</td>\n",
       "      <td>-0.176938</td>\n",
       "      <td>0.022598</td>\n",
       "      <td>0.063324</td>\n",
       "      <td>0.101304</td>\n",
       "      <td>0.028445</td>\n",
       "      <td>0.012273</td>\n",
       "      <td>0.002511</td>\n",
       "      <td>-0.020033</td>\n",
       "    </tr>\n",
       "    <tr>\n",
       "      <th>362</th>\n",
       "      <td>-0.527739</td>\n",
       "      <td>0.975864</td>\n",
       "      <td>-0.996385</td>\n",
       "      <td>0.700515</td>\n",
       "      <td>-0.265846</td>\n",
       "      <td>0.694807</td>\n",
       "      <td>-0.146325</td>\n",
       "      <td>0.256976</td>\n",
       "      <td>-0.026150</td>\n",
       "      <td>-0.035737</td>\n",
       "      <td>-0.007242</td>\n",
       "      <td>-0.012170</td>\n",
       "      <td>-0.008238</td>\n",
       "    </tr>\n",
       "    <tr>\n",
       "      <th>363</th>\n",
       "      <td>1.813310</td>\n",
       "      <td>0.399288</td>\n",
       "      <td>0.804280</td>\n",
       "      <td>-0.605968</td>\n",
       "      <td>-0.012705</td>\n",
       "      <td>-0.647596</td>\n",
       "      <td>0.092590</td>\n",
       "      <td>-0.034235</td>\n",
       "      <td>-0.324230</td>\n",
       "      <td>0.034798</td>\n",
       "      <td>0.060096</td>\n",
       "      <td>0.026300</td>\n",
       "      <td>0.044582</td>\n",
       "    </tr>\n",
       "  </tbody>\n",
       "</table>\n",
       "</div>"
      ],
      "text/plain": [
       "          PC1       PC2       PC3       PC4       PC5       PC6       PC7  \\\n",
       "359  7.744635  5.923184  4.650574 -0.171783  0.700800  0.108545 -0.796502   \n",
       "360  7.144156 -0.566062 -0.789857 -1.044655 -1.185891 -0.799060  0.715051   \n",
       "361 -2.772474  0.012934  0.045608  0.477666 -0.147097 -0.176938  0.022598   \n",
       "362 -0.527739  0.975864 -0.996385  0.700515 -0.265846  0.694807 -0.146325   \n",
       "363  1.813310  0.399288  0.804280 -0.605968 -0.012705 -0.647596  0.092590   \n",
       "\n",
       "          PC8       PC9      PC10      PC11      PC12      PC13  \n",
       "359  1.158606  0.055608 -0.717879 -0.168391 -0.105099 -0.022531  \n",
       "360 -0.139595 -0.204545 -0.243865 -0.034647  0.015533 -0.025846  \n",
       "361  0.063324  0.101304  0.028445  0.012273  0.002511 -0.020033  \n",
       "362  0.256976 -0.026150 -0.035737 -0.007242 -0.012170 -0.008238  \n",
       "363 -0.034235 -0.324230  0.034798  0.060096  0.026300  0.044582  "
      ]
     },
     "execution_count": 10,
     "metadata": {},
     "output_type": "execute_result"
    }
   ],
   "source": [
    "from sklearn.preprocessing import StandardScaler, normalize\n",
    "from sklearn.decomposition import PCA\n",
    "scalar = StandardScaler()\n",
    "normalised_data = scalar.fit_transform(trainX)\n",
    "pca = PCA(n_components=13)\n",
    "codeTrainPCA = pca.fit_transform(normalised_data)\n",
    "principal_component_DF = pd.DataFrame(data=codeTrainPCA,columns=pcColumnNames)\n",
    "principal_component_DF.tail()"
   ]
  },
  {
   "cell_type": "markdown",
   "metadata": {},
   "source": [
    "<p><b>b)</b> Plot a scree plot to report variances captured by each principal component.</p>"
   ]
  },
  {
   "cell_type": "markdown",
   "metadata": {},
   "source": [
    "<h3>Analysis:</h3>\n",
    "  <p>\n",
    "<ul>\n",
    "  <li>As PCA showing the <b>PC1</b> has the highest variance.</li>\n",
    "  <li>From <b>PC2 to Rest</b> has a decreasing towards zero variances. This means data highly clustered near the origin.</li>\n",
    "  <li>Some Outliers could be PC1.</li>\n",
    "</ul>\n",
    "  </p>"
   ]
  },
  {
   "cell_type": "code",
   "execution_count": 11,
   "metadata": {},
   "outputs": [
    {
     "data": {
      "image/png": "[encoded data removed]",
      "text/plain": [
       "<Figure size 432x288 with 1 Axes>"
      ]
     },
     "metadata": {
      "needs_background": "light"
     },
     "output_type": "display_data"
    }
   ],
   "source": [
    "plt.plot(pca.explained_variance_, 'ro-', linewidth=2);\n",
    "plt.xlabel('Principal Components')\n",
    "plt.ylabel('Variances')\n",
    "plt.title('Scree Plot');"
   ]
  },
  {
   "cell_type": "markdown",
   "metadata": {},
   "source": [
    "<p><b>c)</b> Project the test set on the same PCA space produced by the original training dataset.</p>"
   ]
  },
  {
   "cell_type": "code",
   "execution_count": 14,
   "metadata": {},
   "outputs": [
    {
     "data": {
      "text/html": [
       "<div>\n",
       "<style scoped>\n",
       "    .dataframe tbody tr th:only-of-type {\n",
       "        vertical-align: middle;\n",
       "    }\n",
       "\n",
       "    .dataframe tbody tr th {\n",
       "        vertical-align: top;\n",
       "    }\n",
       "\n",
       "    .dataframe thead th {\n",
       "        text-align: right;\n",
       "    }\n",
       "</style>\n",
       "<table border=\"1\" class=\"dataframe\">\n",
       "  <thead>\n",
       "    <tr style=\"text-align: right;\">\n",
       "      <th></th>\n",
       "      <th>PC1</th>\n",
       "      <th>PC2</th>\n",
       "      <th>PC3</th>\n",
       "      <th>PC4</th>\n",
       "      <th>PC5</th>\n",
       "      <th>PC6</th>\n",
       "      <th>PC7</th>\n",
       "      <th>PC8</th>\n",
       "      <th>PC9</th>\n",
       "      <th>PC10</th>\n",
       "      <th>PC11</th>\n",
       "      <th>PC12</th>\n",
       "      <th>PC13</th>\n",
       "    </tr>\n",
       "  </thead>\n",
       "  <tbody>\n",
       "    <tr>\n",
       "      <th>131</th>\n",
       "      <td>1.034102</td>\n",
       "      <td>-0.243008</td>\n",
       "      <td>0.533408</td>\n",
       "      <td>1.061600</td>\n",
       "      <td>-0.557433</td>\n",
       "      <td>0.281436</td>\n",
       "      <td>0.350733</td>\n",
       "      <td>-0.050054</td>\n",
       "      <td>-0.036203</td>\n",
       "      <td>-0.114006</td>\n",
       "      <td>-0.036889</td>\n",
       "      <td>-0.032406</td>\n",
       "      <td>-0.000904</td>\n",
       "    </tr>\n",
       "    <tr>\n",
       "      <th>132</th>\n",
       "      <td>0.483948</td>\n",
       "      <td>-0.155701</td>\n",
       "      <td>-0.610081</td>\n",
       "      <td>-0.277761</td>\n",
       "      <td>0.117022</td>\n",
       "      <td>0.128786</td>\n",
       "      <td>-0.353443</td>\n",
       "      <td>-0.110827</td>\n",
       "      <td>0.075138</td>\n",
       "      <td>-0.059187</td>\n",
       "      <td>-0.014524</td>\n",
       "      <td>-0.010403</td>\n",
       "      <td>0.002919</td>\n",
       "    </tr>\n",
       "    <tr>\n",
       "      <th>133</th>\n",
       "      <td>-2.183372</td>\n",
       "      <td>-0.066159</td>\n",
       "      <td>0.431514</td>\n",
       "      <td>0.251857</td>\n",
       "      <td>0.436095</td>\n",
       "      <td>-0.237565</td>\n",
       "      <td>-0.082033</td>\n",
       "      <td>0.024228</td>\n",
       "      <td>0.056037</td>\n",
       "      <td>0.040288</td>\n",
       "      <td>0.030606</td>\n",
       "      <td>-0.015921</td>\n",
       "      <td>0.000813</td>\n",
       "    </tr>\n",
       "    <tr>\n",
       "      <th>134</th>\n",
       "      <td>-1.989296</td>\n",
       "      <td>-0.117301</td>\n",
       "      <td>0.456072</td>\n",
       "      <td>0.170506</td>\n",
       "      <td>0.276917</td>\n",
       "      <td>-0.238848</td>\n",
       "      <td>-0.077496</td>\n",
       "      <td>-0.018316</td>\n",
       "      <td>0.052466</td>\n",
       "      <td>0.035051</td>\n",
       "      <td>0.019483</td>\n",
       "      <td>-0.035457</td>\n",
       "      <td>-0.000553</td>\n",
       "    </tr>\n",
       "    <tr>\n",
       "      <th>135</th>\n",
       "      <td>-1.390092</td>\n",
       "      <td>0.016453</td>\n",
       "      <td>-0.194384</td>\n",
       "      <td>-0.071961</td>\n",
       "      <td>-0.063987</td>\n",
       "      <td>-0.060984</td>\n",
       "      <td>-0.364613</td>\n",
       "      <td>0.088454</td>\n",
       "      <td>-0.028664</td>\n",
       "      <td>-0.052332</td>\n",
       "      <td>0.013309</td>\n",
       "      <td>0.038434</td>\n",
       "      <td>0.001271</td>\n",
       "    </tr>\n",
       "  </tbody>\n",
       "</table>\n",
       "</div>"
      ],
      "text/plain": [
       "          PC1       PC2       PC3       PC4       PC5       PC6       PC7  \\\n",
       "131  1.034102 -0.243008  0.533408  1.061600 -0.557433  0.281436  0.350733   \n",
       "132  0.483948 -0.155701 -0.610081 -0.277761  0.117022  0.128786 -0.353443   \n",
       "133 -2.183372 -0.066159  0.431514  0.251857  0.436095 -0.237565 -0.082033   \n",
       "134 -1.989296 -0.117301  0.456072  0.170506  0.276917 -0.238848 -0.077496   \n",
       "135 -1.390092  0.016453 -0.194384 -0.071961 -0.063987 -0.060984 -0.364613   \n",
       "\n",
       "          PC8       PC9      PC10      PC11      PC12      PC13  \n",
       "131 -0.050054 -0.036203 -0.114006 -0.036889 -0.032406 -0.000904  \n",
       "132 -0.110827  0.075138 -0.059187 -0.014524 -0.010403  0.002919  \n",
       "133  0.024228  0.056037  0.040288  0.030606 -0.015921  0.000813  \n",
       "134 -0.018316  0.052466  0.035051  0.019483 -0.035457 -0.000553  \n",
       "135  0.088454 -0.028664 -0.052332  0.013309  0.038434  0.001271  "
      ]
     },
     "execution_count": 14,
     "metadata": {},
     "output_type": "execute_result"
    }
   ],
   "source": [
    "test_normalised = scalar.transform(testX)\n",
    "codeTestPCA = pca.transform(test_normalised)\n",
    "pc_test_Df = pd.DataFrame(data=codeTestPCA,columns=pcColumnNames)\n",
    "pc_test_Df.tail()"
   ]
  },
  {
   "cell_type": "markdown",
   "metadata": {
    "scrolled": true
   },
   "source": [
    "<p>\n",
    "    <b>d)</b> Plot two subplots in one figure: one for the training data in the PC1 and PC2 projection space and\n",
    "label the data in the picture according to its class; the other one for the test data in the same PCA space and label the data in the picture according to its class\n",
    "  </p>"
   ]
  },
  {
   "cell_type": "markdown",
   "metadata": {},
   "source": [
    "<p>\n",
    "    <b>Analysis</b><br>\n",
    "    After implementing the <b>PCA</b> on both training and test data. <br/>\n",
    "    <ol>\n",
    "        <li>Defective has been more wide spread.</li>\n",
    "        <li>Non-Defective has been clustered Together. Some outliers also there. But not wide as much defective.</li>\n",
    "        </ol>\n",
    "</p>"
   ]
  },
  {
   "cell_type": "code",
   "execution_count": 15,
   "metadata": {},
   "outputs": [
    {
     "data": {
      "image/png": "[encoded data removed]",
      "text/plain": [
       "<Figure size 432x288 with 2 Axes>"
      ]
     },
     "metadata": {
      "needs_background": "light"
     },
     "output_type": "display_data"
    }
   ],
   "source": [
    "# Training Data\n",
    "colors = ['r','g']\n",
    "targets = [1,-1]\n",
    "legends = ['Defective','Non-Defective']\n",
    "plt.subplot(1,2,1)\n",
    "plt.xlabel('PC1')\n",
    "plt.ylabel('PC2')\n",
    "plt.title('PC Training Data')\n",
    "for target, color in zip(targets,colors):\n",
    "    indicesToKeep = trainingSet['DEFECTIVE'] == target\n",
    "    plt.scatter(principal_component_DF.loc[indicesToKeep, 'PC1']\n",
    "               , principal_component_DF.loc[indicesToKeep, 'PC2'], c = color, s = 50)\n",
    "plt.legend(legends,prop={'size': 5})\n",
    "# Test Data\n",
    "plt.subplot(1,2,2)\n",
    "colors = ['r','g']\n",
    "targets = [1,-1]\n",
    "legends = ['Defective','Non-Defective']\n",
    "plt.xlabel('PC1')\n",
    "plt.ylabel('PC2')\n",
    "plt.title('PC Test Data')\n",
    "for target, color in zip(targets,colors):\n",
    "    indicesToKeep = testSet['DEFECTIVE'] == target\n",
    "    plt.scatter(pc_test_Df.loc[indicesToKeep, 'PC1']\n",
    "               , pc_test_Df.loc[indicesToKeep, 'PC2'], c = color, s = 50)\n",
    "plt.legend(legends,prop={'size': 5});"
   ]
  },
  {
   "cell_type": "markdown",
   "metadata": {},
   "source": [
    "<h1>Task 3: Do a classification using the Naïve Bayes Classification model </h1>"
   ]
  },
  {
   "cell_type": "markdown",
   "metadata": {},
   "source": [
    "<p>\n",
    "    Train the model using the original training set and report the performance on the test set including accuracy rate.\n",
    "  </p>"
   ]
  },
  {
   "cell_type": "markdown",
   "metadata": {},
   "source": [
    "<h3>Analysis</h3>\n",
    "  <p>\n",
    "    After Implementing the GaussianNB. The accuracy rate was 62%. It can become better after training more data.\n",
    "  </p>"
   ]
  },
  {
   "cell_type": "code",
   "execution_count": 16,
   "metadata": {},
   "outputs": [],
   "source": [
    "from sklearn.naive_bayes import GaussianNB\n",
    "from sklearn import metrics"
   ]
  },
  {
   "cell_type": "code",
   "execution_count": 17,
   "metadata": {},
   "outputs": [
    {
     "data": {
      "text/plain": [
       "GaussianNB(priors=None, var_smoothing=1e-09)"
      ]
     },
     "execution_count": 17,
     "metadata": {},
     "output_type": "execute_result"
    }
   ],
   "source": [
    "nb = GaussianNB()\n",
    "nb.fit(trainX,trainY)"
   ]
  },
  {
   "cell_type": "code",
   "execution_count": 18,
   "metadata": {},
   "outputs": [],
   "source": [
    "predicted_Y_Test_values = nb.predict(testX)"
   ]
  },
  {
   "cell_type": "code",
   "execution_count": 19,
   "metadata": {},
   "outputs": [
    {
     "name": "stdout",
     "output_type": "stream",
     "text": [
      "Accuracy:  0.62\n"
     ]
    }
   ],
   "source": [
    "print('Accuracy: ',metrics.accuracy_score(testY,predicted_Y_Test_values).round(2))"
   ]
  },
  {
   "cell_type": "markdown",
   "metadata": {},
   "source": [
    "<h1>Task 4: Investigate how the number of features in the training dataset affects the model performance on the validation set</h1>"
   ]
  },
  {
   "cell_type": "markdown",
   "metadata": {},
   "source": [
    "<p>\n",
    "    <b>a)</b> Use the training set (II) to train 13 Naïve Bayes Classification models, with 13 different feature sets. That is: the first one is to use the 1st feature only; the second one is to use the 1st and the 2nd features; the third one is to use the 1st, 2nd, and 3rd features, the fourth one is to use the first 4 features, and so on.<br>\n",
    "Measure the accuracy rate on both the training set and the validation set. Report the results by plotting them in a figure: that is, a plot of the accuracy rate against the number of features used in each model. There should be two curves in this figure: one for the training set (II); the other one for the validation set.\n",
    "  </p>"
   ]
  },
  {
   "cell_type": "markdown",
   "metadata": {},
   "source": [
    "<p>\n",
    "    <b>Comment:</b>\n",
    "  Task suggests needing to show Training Data and Validation Data Accuracies. Further, I have divided Training into 2 parts. One model for learning and another one for Testing the model predictions. Along with validation set accuracy as well.\n",
    "</p>"
   ]
  },
  {
   "cell_type": "code",
   "execution_count": 20,
   "metadata": {},
   "outputs": [],
   "source": [
    "trainset_x_1,trainset_x_2,trainset_y_1,trainset_y_2 = train_test_split(code_Training_X,code_training_Y,test_size=0.50,random_state=42)"
   ]
  },
  {
   "cell_type": "code",
   "execution_count": 21,
   "metadata": {},
   "outputs": [],
   "source": [
    "trainAccuracy = []\n",
    "validAccuracy = []\n",
    "for i in range(1,14):\n",
    "    nb = GaussianNB()\n",
    "    nb.fit(trainset_x_1.iloc[:,:i],trainset_y_1)\n",
    "    trainAccuracy.append(metrics.accuracy_score(trainset_y_2,nb.predict(trainset_x_2.iloc[:,:i])))\n",
    "    validAccuracy.append(metrics.accuracy_score(code_Validation_Y,nb.predict(code_Validation_X.iloc[:,:i])))"
   ]
  },
  {
   "cell_type": "code",
   "execution_count": 22,
   "metadata": {},
   "outputs": [
    {
     "data": {
      "image/png": "[encoded data removed]",
      "text/plain": [
       "<Figure size 432x288 with 1 Axes>"
      ]
     },
     "metadata": {
      "needs_background": "light"
     },
     "output_type": "display_data"
    }
   ],
   "source": [
    "plt.plot(trainAccuracy,'b-',label='Train')\n",
    "plt.plot(validAccuracy,'g-',label='Validation')\n",
    "plt.xlabel('Features')\n",
    "plt.ylabel('Accuracy')\n",
    "plt.title('Naive Bayes Features Accuracy')\n",
    "plt.legend(['Train','Test'],prop={'size': 10});"
   ]
  },
  {
   "cell_type": "markdown",
   "metadata": {},
   "source": [
    "<p><b>b)</b> Report what is the best number of features you would like to use in this work and explain why you choose it. Write it down in your Jupyter notebook.</p>"
   ]
  },
  {
   "cell_type": "markdown",
   "metadata": {},
   "source": [
    "<p>\n",
    "    <b>Features Selection</b><br>\n",
    "    <ul>\n",
    "      <li>As PCA shows, principal components has not much variated. This means Only Some features have derived the Defective and Non-Defective.</li>\n",
    "      <li>After Gaussian Naive Bayes implementing the features, only 8 features leading 60% of accuracy.</li>\n",
    "      <li>So, For the training model, 8 features will enough to predict up to 60% on a testing test. The prediction rate can be increased if implying more on more data.</li>\n",
    "    </ul>\n",
    "  </p>"
   ]
  },
  {
   "cell_type": "markdown",
   "metadata": {},
   "source": [
    "<p>\n",
    "    <b>c)</b> Use the selected number of features to train the model and report the performance on the test set.\n",
    "  </p>"
   ]
  },
  {
   "cell_type": "markdown",
   "metadata": {},
   "source": [
    "<h3>Analysis</h3>\n",
    "  <p>\n",
    "    <ul>\n",
    "      <li>After implementing the Gaussian Naive Bayes on the first eight features. The accuracy rate reported 58%.</li>\n",
    "      <li>It is near what we have decided on the earlier features selections. It can be improved by consistency monitoring and learning the model.</li>\n",
    "    </ul>\n",
    "  </p>"
   ]
  },
  {
   "cell_type": "code",
   "execution_count": 23,
   "metadata": {},
   "outputs": [
    {
     "name": "stdout",
     "output_type": "stream",
     "text": [
      "Accuracy For Naive Bayes:  0.58\n"
     ]
    }
   ],
   "source": [
    "nb = GaussianNB()\n",
    "nb.fit(trainX.loc[:,:'LOC_EXECUTABLE'],trainY)\n",
    "results = nb.predict(testX.loc[:,:'LOC_EXECUTABLE'])\n",
    "accuracy = metrics.accuracy_score(testY,results).round(2)\n",
    "print('Accuracy For Naive Bayes: ',str(accuracy))"
   ]
  },
  {
   "cell_type": "markdown",
   "metadata": {},
   "source": [
    "<h1>Task 5: Summarize your findings, write your conclusions using critical thinking (no more than 100 words) and write it down in your Jupyter notebook.</h1>"
   ]
  },
  {
   "cell_type": "markdown",
   "metadata": {},
   "source": [
    "<h1>Observations</h1>"
   ]
  },
  {
   "cell_type": "markdown",
   "metadata": {},
   "source": [
    "<p>\n",
    "  <b>Explore the data</b><br><br>\n",
    "  <ul>\n",
    "    <li>Looking into the Boxplot on the Defective has more median. This has been more diverse than Non-Defective.</li>\n",
    "    <li>Making Scatter Plot on design complexity and cyclomatic complexity has linear growth between them.</li>\n",
    "  </ul><br><br>\n",
    "  <b>PCA</b>\n",
    "  <ul>\n",
    "    <li>Principal Components has not much variated.</li>\n",
    "    <li>The only PC1 has a high variance. This PC1 can be outliers.</li>\n",
    "    <li>Moreover, a Scatter plot shows. Defective items have more outspread than Non-Defective.</li>\n",
    "  </ul><br><br>\n",
    "  <b>Naive Bayes</b>\n",
    "  <ul>\n",
    "    <li>After the accuracies test, 8 Features will lead to a 60% prediction performance. It can be an optimal fit. Any more features addition can lead to overfitting the model.</li>\n",
    "    <li>After preparing the model with 8 features to predict the test set. Accuracy will be 58%. It can be improved by providing more training data to learn. </li>\n",
    "  </ul>\n",
    "</p>"
   ]
  }
 ],
 "metadata": {
  "kernelspec": {
   "display_name": "Python 3",
   "language": "python",
   "name": "python3"
  },
  "language_info": {
   "codemirror_mode": {
    "name": "ipython",
    "version": 3
   },
   "file_extension": ".py",
   "mimetype": "text/x-python",
   "name": "python",
   "nbconvert_exporter": "python",
   "pygments_lexer": "ipython3",
   "version": "3.7.4"
  }
 },
 "nbformat": 4,
 "nbformat_minor": 2
}
